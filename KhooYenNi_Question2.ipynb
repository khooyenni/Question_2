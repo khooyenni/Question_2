{
 "cells": [
  {
   "cell_type": "markdown",
   "id": "a145e478",
   "metadata": {},
   "source": [
    "# Question 2:"
   ]
  },
  {
   "cell_type": "code",
   "execution_count": 10,
   "id": "188c3146",
   "metadata": {},
   "outputs": [],
   "source": [
    "import PySimpleGUI as sg\n",
    "import json\n"
   ]
  },
  {
   "cell_type": "code",
   "execution_count": 11,
   "id": "74af7998",
   "metadata": {},
   "outputs": [],
   "source": [
    "# Function to register a new user\n",
    "def register_user(username, password):\n",
    "    users = load_users()\n",
    "\n",
    "    if username in users:\n",
    "        return False\n",
    "\n",
    "    users[username] = password\n",
    "    with open('users.json', 'w') as f:\n",
    "        json.dump(users, f)\n",
    "\n",
    "    return True\n",
    "\n",
    "# Function to load existing users from JSON file\n",
    "def load_users():\n",
    "    try:\n",
    "        with open('users.json', 'r') as f:\n",
    "            users = json.load(f)\n",
    "    except (FileNotFoundError, json.JSONDecodeError):\n",
    "        users = {}\n",
    "\n",
    "    return users\n"
   ]
  },
  {
   "cell_type": "code",
   "execution_count": 12,
   "id": "9d0ce139",
   "metadata": {},
   "outputs": [],
   "source": [
    "# Function to authenticate a user using provided username and password\n",
    "def authenticate_user(username, password):\n",
    "    users = load_users()\n",
    "    return username in users and users[username] == password"
   ]
  },
  {
   "cell_type": "code",
   "execution_count": 14,
   "id": "c5d90e86",
   "metadata": {},
   "outputs": [],
   "source": [
    "# Function to create the login layout for the window\n",
    "def create_login_layout():\n",
    "    return [\n",
    "        [sg.Text('Username:'), sg.InputText(key='-USERNAME-', default_text='')],  \n",
    "        [sg.Text('Password:'), sg.InputText(key='-PASSWORD-', password_char='*', default_text='')],  \n",
    "        [sg.Text('')],\n",
    "        [sg.Text('', size=(2, 1)), \n",
    "         sg.Button('Sign In', size=(10, 1)), sg.Text('', size=(2, 1)), \n",
    "         sg.Button('Register', size=(10, 1)), sg.Text('', size=(2, 1)), \n",
    "         sg.Button('Exit', size=(10, 1))],\n",
    "        [sg.Text('', key='-OUTPUT-', size=(50, 1), text_color='red', font=(\"Helvetica\", 10))]\n",
    "    ]\n",
    "\n",
    "# Main function\n",
    "def main():\n",
    "    sg.theme('DarkTeal6')\n",
    "\n",
    "    window = sg.Window('User Authentication', create_login_layout())\n",
    "\n",
    "    while True:\n",
    "        event, values = window.read()\n",
    "\n",
    "        if event in (None, 'Exit'):\n",
    "            break\n",
    "\n",
    "        # Handle user registration\n",
    "        if event == 'Register':\n",
    "            username, password = values['-USERNAME-'].strip(), values['-PASSWORD-'].strip()\n",
    "            if not username or not password:\n",
    "                 sg.popup('Username and password must not be empty!!!')\n",
    "            else:\n",
    "                if register_user(username, password):\n",
    "                    window['-OUTPUT-'].update('')\n",
    "                    sg.popup('Registration successful!')\n",
    "                else:\n",
    "                    window['-OUTPUT-'].update('')\n",
    "                    sg.popup('Username already exists!')\n",
    "\n",
    "        # Handle user sign in\n",
    "        if event == 'Sign In':\n",
    "            username, password = values['-USERNAME-'].strip(), values['-PASSWORD-'].strip()\n",
    "            if not username or not password:\n",
    "                 sg.popup('Username and password must not be empty!!!')\n",
    "            else:\n",
    "                if authenticate_user(username, password):\n",
    "                    window['-OUTPUT-'].update('')\n",
    "                    sg.popup('Sign in successful!')\n",
    "                    window.close()\n",
    "                    logged_in_layout = [\n",
    "                        [sg.Text(f'Welcome, {username}!')],\n",
    "                        [sg.Button('Log Out')]\n",
    "                    ]\n",
    "                    window = sg.Window('Logged In', logged_in_layout)\n",
    "                else:\n",
    "                    window['-OUTPUT-'].update('')\n",
    "                    sg.popup('Invalid username or password!')\n",
    "\n",
    "        # Handle user log out\n",
    "        if event == 'Log Out':\n",
    "            window.close()\n",
    "            window = sg.Window('User Authentication', create_login_layout())\n",
    "\n",
    "    window.close()\n",
    "\n",
    "if __name__ == '__main__':\n",
    "    main()\n",
    "\n",
    "\n"
   ]
  }
 ],
 "metadata": {
  "kernelspec": {
   "display_name": "Python 3 (ipykernel)",
   "language": "python",
   "name": "python3"
  },
  "language_info": {
   "codemirror_mode": {
    "name": "ipython",
    "version": 3
   },
   "file_extension": ".py",
   "mimetype": "text/x-python",
   "name": "python",
   "nbconvert_exporter": "python",
   "pygments_lexer": "ipython3",
   "version": "3.9.13"
  }
 },
 "nbformat": 4,
 "nbformat_minor": 5
}
